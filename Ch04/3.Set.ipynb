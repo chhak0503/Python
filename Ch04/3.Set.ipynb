{
 "cells": [
  {
   "cell_type": "code",
   "execution_count": null,
   "metadata": {},
   "outputs": [],
   "source": [
    "\"\"\"\n",
    "날짜 : 2023/01/09\n",
    "이름 : 김철학\n",
    "내용 : 파이썬 집합 실습하기\n",
    "\"\"\""
   ]
  },
  {
   "cell_type": "code",
   "execution_count": 3,
   "metadata": {},
   "outputs": [
    {
     "name": "stdout",
     "output_type": "stream",
     "text": [
      "dataset type : <class 'set'>\n"
     ]
    },
    {
     "ename": "TypeError",
     "evalue": "'set' object is not subscriptable",
     "output_type": "error",
     "traceback": [
      "\u001b[1;31m---------------------------------------------------------------------------\u001b[0m",
      "\u001b[1;31mTypeError\u001b[0m                                 Traceback (most recent call last)",
      "Cell \u001b[1;32mIn[3], line 4\u001b[0m\n\u001b[0;32m      2\u001b[0m dataset \u001b[39m=\u001b[39m {\u001b[39m1\u001b[39m, \u001b[39m2\u001b[39m, \u001b[39m3\u001b[39m, \u001b[39m4\u001b[39m, \u001b[39m5\u001b[39m, \u001b[39m3\u001b[39m, \u001b[39m2\u001b[39m}\n\u001b[0;32m      3\u001b[0m \u001b[39mprint\u001b[39m(\u001b[39m'\u001b[39m\u001b[39mdataset type :\u001b[39m\u001b[39m'\u001b[39m, \u001b[39mtype\u001b[39m(dataset))\n\u001b[1;32m----> 4\u001b[0m \u001b[39mprint\u001b[39m(\u001b[39m'\u001b[39m\u001b[39mdataset :\u001b[39m\u001b[39m'\u001b[39m, dataset[\u001b[39m0\u001b[39;49m])\n",
      "\u001b[1;31mTypeError\u001b[0m: 'set' object is not subscriptable"
     ]
    }
   ],
   "source": [
    "# Set\n",
    "dataset = {1, 2, 3, 4, 5, 3, 2}\n",
    "print('dataset type :', type(dataset))\n",
    "print('dataset :', dataset)"
   ]
  },
  {
   "cell_type": "code",
   "execution_count": 2,
   "metadata": {},
   "outputs": [
    {
     "name": "stdout",
     "output_type": "stream",
     "text": [
      "data : 1\n",
      "data : 2\n",
      "data : 3\n",
      "data : 4\n",
      "data : 5\n"
     ]
    }
   ],
   "source": [
    "# 집합 반복문\n",
    "dataset = {1, 2, 3, 4, 5, 3, 2}\n",
    "\n",
    "for data in dataset:\n",
    "    print('data :', data)"
   ]
  },
  {
   "cell_type": "code",
   "execution_count": 5,
   "metadata": {},
   "outputs": [
    {
     "name": "stdout",
     "output_type": "stream",
     "text": [
      "listSet : [1, 2, 3, 4, 5]\n",
      "listSet[0] : 1\n",
      "listSet[2] : 3\n",
      "listSet[3] : 4\n"
     ]
    }
   ],
   "source": [
    "# 집합을 리스트 변환\n",
    "dataset = {1, 2, 3, 4, 5, 3, 2}\n",
    "\n",
    "listSet = list(dataset)\n",
    "print('listSet :', listSet)\n",
    "print('listSet[0] :', listSet[0])\n",
    "print('listSet[2] :', listSet[2])\n",
    "print('listSet[3] :', listSet[3])\n"
   ]
  },
  {
   "cell_type": "code",
   "execution_count": null,
   "metadata": {},
   "outputs": [],
   "source": []
  }
 ],
 "metadata": {
  "kernelspec": {
   "display_name": "Python 3",
   "language": "python",
   "name": "python3"
  },
  "language_info": {
   "codemirror_mode": {
    "name": "ipython",
    "version": 3
   },
   "file_extension": ".py",
   "mimetype": "text/x-python",
   "name": "python",
   "nbconvert_exporter": "python",
   "pygments_lexer": "ipython3",
   "version": "3.11.1"
  },
  "orig_nbformat": 4,
  "vscode": {
   "interpreter": {
    "hash": "ca3167030a8377a7b82d5e665b459d458267ba920e721652be188ae573e682bb"
   }
  }
 },
 "nbformat": 4,
 "nbformat_minor": 2
}
